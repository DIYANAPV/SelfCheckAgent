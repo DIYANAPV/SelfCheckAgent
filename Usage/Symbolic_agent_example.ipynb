{
 "cells": [
  {
   "cell_type": "code",
   "execution_count": null,
   "id": "443c9003-53c0-411c-be93-0a232dd77cbc",
   "metadata": {},
   "outputs": [],
   "source": [
    "from SemanticNgram import SemanticUnigramModel, semantic_model_predict\n",
    "\n",
    "passage = \"The quick brown fox jumps over the lazy dog.\"\n",
    "sampled_passages = [\n",
    "    \"A fast brown fox leaps over a sleepy dog.\",\n",
    "    \"The speedy brown fox hops over the sluggish dog.\",\n",
    "    \"A quick, brown fox jumps over a lazy dog.\"\n",
    "]\n",
    "\n",
    "# Predict a score using a unigram model\n",
    "results = semantic_model_predict(passage, sampled_passages, n=1)\n",
    "# Print the results\n",
    "print(\"Hallucination Score:\")\n",
    "print(results)"
   ]
  },
  {
   "cell_type": "code",
   "execution_count": null,
   "id": "8f5d8b55-a53a-4427-b2c9-e7aa49559c16",
   "metadata": {},
   "outputs": [],
   "source": [
    "\n",
    "passage = \"The quick brown fox jumps over the lazy dog.\"\n",
    "sampled_passages = [\n",
    "    \"what is this.\",\n",
    "    \"there is a house.\",\n",
    "    \"can i be a assistant.\"\n",
    "]\n",
    "\n",
    "# Predict a score using a unigram model\n",
    "results = semantic_model_predict(passage, sampled_passages, n=1)\n",
    "# Print the results\n",
    "print(\"Hallucination Score:\")\n",
    "print(results)"
   ]
  },
  {
   "cell_type": "code",
   "execution_count": null,
   "id": "a09b3097-d1e2-488c-bd88-c26e9c68125e",
   "metadata": {},
   "outputs": [],
   "source": []
  }
 ],
 "metadata": {
  "kernelspec": {
   "display_name": "Python 3 (ipykernel)",
   "language": "python",
   "name": "python3"
  },
  "language_info": {
   "codemirror_mode": {
    "name": "ipython",
    "version": 3
   },
   "file_extension": ".py",
   "mimetype": "text/x-python",
   "name": "python",
   "nbconvert_exporter": "python",
   "pygments_lexer": "ipython3",
   "version": "3.11.8"
  }
 },
 "nbformat": 4,
 "nbformat_minor": 5
}
