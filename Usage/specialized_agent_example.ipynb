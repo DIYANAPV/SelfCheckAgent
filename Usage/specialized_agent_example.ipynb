{
 "cells": [
  {
   "cell_type": "code",
   "execution_count": null,
   "id": "97e78207-f79e-41d9-9d55-de71d2c3a050",
   "metadata": {},
   "outputs": [],
   "source": [
    "#users can chnage \n",
    "\n",
    "'''\n",
    "Model\n",
    "Switch between different models using the model_name parameter:\n",
    "\n",
    "\n",
    "nli_agent = SelfCheckNLI(model_name=\"diyanamuhammed/mistral-mnli\")\n",
    "\n",
    "MODEL_OPTIONS = [\n",
    "    \"diyanamuhammed/mistral-mnli\",\n",
    "    \"diyanamuhammed/gemma-mnli\",\n",
    "    \"diyanamuhammed/Phi-3-MNLI\",\n",
    "    \"diyanamuhammed/llama-mnli\",\n",
    "]\n",
    "\n",
    "\n",
    "\n",
    "Device\n",
    "Force the model to use a specific device:\n",
    "\n",
    "nli_agent = SelfCheckNLI(device=\"cpu\")  # Run on CPU\n",
    "\n",
    "\n",
    "Max Length\n",
    "Adjust the maximum tokenization length to optimize for speed or context size:\n",
    "\n",
    "\n",
    "nli_agent = SelfCheckNLI(max_length=128)\n",
    "'''\n"
   ]
  },
  {
   "cell_type": "code",
   "execution_count": null,
   "id": "af7dfc61-ac41-45e0-9897-c3363e6c8658",
   "metadata": {},
   "outputs": [],
   "source": [
    "from selfcheckagent.specialized_agent import SelfCheckNLI\n",
    "\n",
    "# Initialize with default parameters\n",
    "nli_agent = SelfCheckNLI()\n",
    "\n",
    "# Define test sentences and passages\n",
    "sentences = [\"The cat is on the mat.\"]\n",
    "sampled_passages = [\"The cat sleeps on the mat.\"]\n",
    "\n",
    "# Get predictions\n",
    "scores_per_sentence = nli_agent.predict(sentences, sampled_passages)\n",
    "\n",
    "# Output the results\n",
    "print(\"Average Contradiction Scores per Sentence:\", scores_per_sentence)\n",
    "\n",
    "\n",
    "'''Model: \"diyanamuhammed/Phi-3-MNLI\"\n",
    "Device: \"cuda\" (if GPU is available) or \"cpu\"\n",
    "Max Length: 512''\n"
   ]
  },
  {
   "cell_type": "code",
   "execution_count": null,
   "id": "bba6e495-bf60-4807-8c7d-f0eea44a3c7b",
   "metadata": {},
   "outputs": [],
   "source": [
    "from selfcheckagent.specialized_agent import SelfCheckNLI\n",
    "\n",
    "# Define test sentences and passages\n",
    "sentences = [\"The cat is on the mat.\", \"The dog is barking loudly.\"]\n",
    "sampled_passages = [\n",
    "    \"The cat sleeps on the mat.\",\n",
    "    \"A dog barks in the distance.\"\n",
    "]\n",
    "\n",
    "# Initialize the SelfCheckNLI with a specified model\n",
    "nli_agent = SelfCheckNLI(\n",
    "    model_name=\"diyanamuhammed/Phi-3-MNLI\",  # Choose the model\n",
    "    device=\"cuda\",                          # Use GPU if available, fallback to CPU\n",
    "    max_length=256                          # Specify maximum sequence length\n",
    ")\n",
    "\n",
    "# Get predictions\n",
    "scores_per_sentence = nli_agent.predict(sentences, sampled_passages)\n",
    "\n",
    "# Output the results\n",
    "print(\"Average Contradiction Scores per Sentence:\", scores_per_sentence)\n"
   ]
  }
 ],
 "metadata": {
  "kernelspec": {
   "display_name": "Python 3 (ipykernel)",
   "language": "python",
   "name": "python3"
  },
  "language_info": {
   "codemirror_mode": {
    "name": "ipython",
    "version": 3
   },
   "file_extension": ".py",
   "mimetype": "text/x-python",
   "name": "python",
   "nbconvert_exporter": "python",
   "pygments_lexer": "ipython3",
   "version": "3.11.8"
  }
 },
 "nbformat": 4,
 "nbformat_minor": 5
}
